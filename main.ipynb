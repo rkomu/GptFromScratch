{
 "cells": [
  {
   "cell_type": "code",
   "execution_count": 1,
   "metadata": {},
   "outputs": [],
   "source": [
    "import torch\n",
    "import torch.nn as nn \n",
    "from torch.nn import functional as F"
   ]
  },
  {
   "cell_type": "code",
   "execution_count": 2,
   "metadata": {},
   "outputs": [
    {
     "data": {
      "text/plain": [
       "('train.txt', <http.client.HTTPMessage at 0x120203b90>)"
      ]
     },
     "execution_count": 2,
     "metadata": {},
     "output_type": "execute_result"
    }
   ],
   "source": [
    "# Get Data \n",
    "import urllib.request\n",
    "txt_url = \"https://s3.amazonaws.com/text-datasets/nietzsche.txt\"\n",
    "urllib.request.urlretrieve(txt_url, 'train.txt')"
   ]
  },
  {
   "cell_type": "code",
   "execution_count": 3,
   "metadata": {},
   "outputs": [],
   "source": [
    "numOfEmbedVariables = 32\n",
    "batch_size = 32\n",
    "block_size = 8\n",
    "max_iters = 3000\n",
    "eval_interval = 300\n",
    "learning_rate = 1e-2\n",
    "device = 'cuda' if torch.cuda.is_available() else 'cpu'\n",
    "eval_iters = 200"
   ]
  },
  {
   "cell_type": "code",
   "execution_count": 4,
   "metadata": {},
   "outputs": [],
   "source": [
    "# Tokenize\n",
    "class Tokenizer():\n",
    "    def __init__(self, characters_list:list) -> None:\n",
    "        self.characters_list = characters_list\n",
    "\n",
    "    # map string to int\n",
    "    def mapStringToInt(self):\n",
    "        self.MapStrToInt = {ch:i for i, ch in enumerate(self.characters_list)}\n",
    "        return self.MapStrToInt\n",
    "\n",
    "    # map to int to string\n",
    "    def mapIntToString(self):\n",
    "        self.MapIntToStr = {i:ch for i, ch in enumerate(self.characters_list)}\n",
    "        return self.MapIntToStr \n",
    "\n",
    "    # string to int\n",
    "    def encoder(self, string:str):\n",
    "        CharMaps=self.MapStrToInt\n",
    "        return [CharMaps[c] for c in string]\n",
    "\n",
    "    # int to string\n",
    "    def decoder(self, int_list:list):\n",
    "        CharMaps=self.MapIntToStr\n",
    "        return ''.join([CharMaps[i] for i in int_list])\n"
   ]
  },
  {
   "cell_type": "code",
   "execution_count": 5,
   "metadata": {},
   "outputs": [],
   "source": [
    "# Training and validate \n",
    "class DataLoader():\n",
    "    def __init__(self, data, block_size, batch_size) -> None:\n",
    "        self.data = data\n",
    "        self.block_size = block_size\n",
    "        self.batch_size = batch_size\n",
    "        \n",
    "    # split data into validation and training data.\n",
    "    def splitData(self, splitPercentage=0.9):\n",
    "        n = int(splitPercentage*len(self.data))\n",
    "        self.val_data = self.data[n:]\n",
    "        self.train_data = self.data[:n]\n",
    "\n",
    "        return self.train_data, self.val_data\n",
    "    \n",
    "    # Get chunk of data\n",
    "    def getBlock(self, start, end, data_list:list):\n",
    "        return data_list[start:end]\n",
    "\n",
    "    # get batch \n",
    "    def get_batch(self, split):\n",
    "        # choose train_data or val_data \n",
    "        data = self.train_data if split == 'train' else self.val_data\n",
    "        # generate batch size random numbers \n",
    "        ix = torch.randint(len(data) - self.block_size, (self.batch_size,))\n",
    "        # first block size words \n",
    "        # stack to create new dimension \n",
    "        x = torch.stack([self.getBlock(start=i, end=i+self.block_size, data_list=self.data) for i in ix])\n",
    "        # offset of x \n",
    "        y = torch.stack([self.getBlock(start=i+1, end=i+self.block_size+1, data_list=self.data) for i in ix])\n",
    "        return x, y"
   ]
  },
  {
   "cell_type": "code",
   "execution_count": 6,
   "metadata": {},
   "outputs": [
    {
     "name": "stdout",
     "output_type": "stream",
     "text": [
      "Len(train.txt): 600893\n"
     ]
    }
   ],
   "source": [
    "with open(\"train.txt\", \"r\", encoding='utf-8') as f:\n",
    "    text = f.read()\n",
    "\n",
    "print(f\"Len(train.txt): {len(text)}\")"
   ]
  },
  {
   "cell_type": "code",
   "execution_count": 7,
   "metadata": {},
   "outputs": [
    {
     "name": "stdout",
     "output_type": "stream",
     "text": [
      "\n",
      " !\"'(),-.0123456789:;=?ABCDEFGHIJKLMNOPQRSTUVWXYZ[]_abcdefghijklmnopqrstuvwxyzÆäæéë\n",
      "84\n",
      "['\\n', ' ', '!', '\"', \"'\", '(', ')', ',', '-', '.', '0', '1', '2', '3', '4', '5', '6', '7', '8', '9', ':', ';', '=', '?', 'A', 'B', 'C', 'D', 'E', 'F', 'G', 'H', 'I', 'J', 'K', 'L', 'M', 'N', 'O', 'P', 'Q', 'R', 'S', 'T', 'U', 'V', 'W', 'X', 'Y', 'Z', '[', ']', '_', 'a', 'b', 'c', 'd', 'e', 'f', 'g', 'h', 'i', 'j', 'k', 'l', 'm', 'n', 'o', 'p', 'q', 'r', 's', 't', 'u', 'v', 'w', 'x', 'y', 'z', 'Æ', 'ä', 'æ', 'é', 'ë']\n"
     ]
    }
   ],
   "source": [
    "chars = sorted(list(set(text)))\n",
    "vocab_size = len(chars)\n",
    "print(''.join(chars))\n",
    "print(vocab_size)\n",
    "print(chars)"
   ]
  },
  {
   "cell_type": "code",
   "execution_count": 8,
   "metadata": {},
   "outputs": [
    {
     "name": "stdout",
     "output_type": "stream",
     "text": [
      "[60, 61, 1, 72, 60, 57, 70, 57]\n",
      "hi there\n"
     ]
    }
   ],
   "source": [
    "tokenizer = Tokenizer(characters_list = chars)\n",
    "\n",
    "MapStrToInt = tokenizer.mapStringToInt()\n",
    "MapIntToStr = tokenizer.mapIntToString()\n",
    "\n",
    "print(tokenizer.encoder(string=\"hi there\"))\n",
    "print(tokenizer.decoder(int_list = tokenizer.encoder(string=\"hi there\")))"
   ]
  },
  {
   "cell_type": "code",
   "execution_count": 9,
   "metadata": {},
   "outputs": [
    {
     "name": "stdout",
     "output_type": "stream",
     "text": [
      "data.shape: torch.Size([600893])\n"
     ]
    }
   ],
   "source": [
    "# Encode the train.txt and wrap it in tensor\n",
    "data = torch.tensor(tokenizer.encoder(text), dtype=torch.long)\n",
    "print(f\"data.shape: {data.shape}\")"
   ]
  },
  {
   "cell_type": "code",
   "execution_count": 10,
   "metadata": {},
   "outputs": [],
   "source": [
    "dataLoader = DataLoader(data = data, \n",
    "                        block_size=8,\n",
    "                        batch_size=4)"
   ]
  },
  {
   "cell_type": "code",
   "execution_count": 11,
   "metadata": {},
   "outputs": [],
   "source": [
    "# Split the data \n",
    "train_data, val_data = dataLoader.splitData()"
   ]
  },
  {
   "cell_type": "code",
   "execution_count": 12,
   "metadata": {},
   "outputs": [
    {
     "name": "stdout",
     "output_type": "stream",
     "text": [
      "When input is tensor([39]) the target is 41\n",
      "When input is tensor([39, 41]) the target is 28\n",
      "When input is tensor([39, 41, 28]) the target is 29\n",
      "When input is tensor([39, 41, 28, 29]) the target is 24\n",
      "When input is tensor([39, 41, 28, 29, 24]) the target is 26\n",
      "When input is tensor([39, 41, 28, 29, 24, 26]) the target is 28\n",
      "When input is tensor([39, 41, 28, 29, 24, 26, 28]) the target is 0\n",
      "When input is tensor([39, 41, 28, 29, 24, 26, 28,  0]) the target is 0\n"
     ]
    }
   ],
   "source": [
    "# Split the data to chunk\n",
    "# maximum context length for predictions\n",
    "block_size = 8\n",
    "\n",
    "x = dataLoader.getBlock(data_list=train_data, start=0, end=block_size)\n",
    "y = dataLoader.getBlock(data_list=train_data, start=1, end=block_size+1)\n",
    "\n",
    "for t in range(block_size):\n",
    "    context = x[:t+1]\n",
    "    target = y[t]\n",
    "    print(f\"When input is {context} the target is {target}\")"
   ]
  },
  {
   "cell_type": "code",
   "execution_count": 13,
   "metadata": {},
   "outputs": [
    {
     "name": "stdout",
     "output_type": "stream",
     "text": [
      "inputs:\n",
      "torch.Size([4, 8])\n",
      "tensor([[67, 65,  0, 53, 54, 71, 67, 64],\n",
      "        [ 1,  1, 32,  1, 53, 65,  7,  1],\n",
      "        [53, 64,  1, 72, 60, 53, 72,  1],\n",
      "        [61, 67, 66,  1, 53, 66, 56,  1]])\n",
      "targets:\n",
      "torch.Size([4, 8])\n",
      "tensor([[65,  0, 53, 54, 71, 67, 64, 73],\n",
      "        [ 1, 32,  1, 53, 65,  7,  1, 72],\n",
      "        [64,  1, 72, 60, 53, 72,  1, 61],\n",
      "        [67, 66,  1, 53, 66, 56,  1, 57]])\n",
      "When input is [[67, 65, 0, 53, 54, 71, 67, 64]] the target is 65\n",
      "When input is [[67, 65, 0, 53, 54, 71, 67, 64], [1, 1, 32, 1, 53, 65, 7, 1]] the target is 0\n",
      "When input is [[67, 65, 0, 53, 54, 71, 67, 64], [1, 1, 32, 1, 53, 65, 7, 1], [53, 64, 1, 72, 60, 53, 72, 1]] the target is 53\n",
      "When input is [[67, 65, 0, 53, 54, 71, 67, 64], [1, 1, 32, 1, 53, 65, 7, 1], [53, 64, 1, 72, 60, 53, 72, 1], [61, 67, 66, 1, 53, 66, 56, 1]] the target is 54\n",
      "When input is [[67, 65, 0, 53, 54, 71, 67, 64], [1, 1, 32, 1, 53, 65, 7, 1], [53, 64, 1, 72, 60, 53, 72, 1], [61, 67, 66, 1, 53, 66, 56, 1]] the target is 71\n",
      "When input is [[67, 65, 0, 53, 54, 71, 67, 64], [1, 1, 32, 1, 53, 65, 7, 1], [53, 64, 1, 72, 60, 53, 72, 1], [61, 67, 66, 1, 53, 66, 56, 1]] the target is 67\n",
      "When input is [[67, 65, 0, 53, 54, 71, 67, 64], [1, 1, 32, 1, 53, 65, 7, 1], [53, 64, 1, 72, 60, 53, 72, 1], [61, 67, 66, 1, 53, 66, 56, 1]] the target is 64\n",
      "When input is [[67, 65, 0, 53, 54, 71, 67, 64], [1, 1, 32, 1, 53, 65, 7, 1], [53, 64, 1, 72, 60, 53, 72, 1], [61, 67, 66, 1, 53, 66, 56, 1]] the target is 73\n",
      "When input is [] the target is 1\n",
      "When input is [[1, 1, 32, 1, 53, 65, 7, 1]] the target is 32\n",
      "When input is [[1, 1, 32, 1, 53, 65, 7, 1], [53, 64, 1, 72, 60, 53, 72, 1]] the target is 1\n",
      "When input is [[1, 1, 32, 1, 53, 65, 7, 1], [53, 64, 1, 72, 60, 53, 72, 1], [61, 67, 66, 1, 53, 66, 56, 1]] the target is 53\n",
      "When input is [[1, 1, 32, 1, 53, 65, 7, 1], [53, 64, 1, 72, 60, 53, 72, 1], [61, 67, 66, 1, 53, 66, 56, 1]] the target is 65\n",
      "When input is [[1, 1, 32, 1, 53, 65, 7, 1], [53, 64, 1, 72, 60, 53, 72, 1], [61, 67, 66, 1, 53, 66, 56, 1]] the target is 7\n",
      "When input is [[1, 1, 32, 1, 53, 65, 7, 1], [53, 64, 1, 72, 60, 53, 72, 1], [61, 67, 66, 1, 53, 66, 56, 1]] the target is 1\n",
      "When input is [[1, 1, 32, 1, 53, 65, 7, 1], [53, 64, 1, 72, 60, 53, 72, 1], [61, 67, 66, 1, 53, 66, 56, 1]] the target is 72\n",
      "When input is [] the target is 64\n",
      "When input is [] the target is 1\n",
      "When input is [[53, 64, 1, 72, 60, 53, 72, 1]] the target is 72\n",
      "When input is [[53, 64, 1, 72, 60, 53, 72, 1], [61, 67, 66, 1, 53, 66, 56, 1]] the target is 60\n",
      "When input is [[53, 64, 1, 72, 60, 53, 72, 1], [61, 67, 66, 1, 53, 66, 56, 1]] the target is 53\n",
      "When input is [[53, 64, 1, 72, 60, 53, 72, 1], [61, 67, 66, 1, 53, 66, 56, 1]] the target is 72\n",
      "When input is [[53, 64, 1, 72, 60, 53, 72, 1], [61, 67, 66, 1, 53, 66, 56, 1]] the target is 1\n",
      "When input is [[53, 64, 1, 72, 60, 53, 72, 1], [61, 67, 66, 1, 53, 66, 56, 1]] the target is 61\n",
      "When input is [] the target is 67\n",
      "When input is [] the target is 66\n",
      "When input is [] the target is 1\n",
      "When input is [[61, 67, 66, 1, 53, 66, 56, 1]] the target is 53\n",
      "When input is [[61, 67, 66, 1, 53, 66, 56, 1]] the target is 66\n",
      "When input is [[61, 67, 66, 1, 53, 66, 56, 1]] the target is 56\n",
      "When input is [[61, 67, 66, 1, 53, 66, 56, 1]] the target is 1\n",
      "When input is [[61, 67, 66, 1, 53, 66, 56, 1]] the target is 57\n"
     ]
    }
   ],
   "source": [
    "# generate random numbers and seed it so the numbers wont change every time we execute\n",
    "torch.manual_seed(1337)\n",
    "\n",
    "# number of independent sequences for parallel process\n",
    "batch_size = 4\n",
    "\n",
    "xb, yb = dataLoader.get_batch(split='train')\n",
    "print(\"inputs:\")\n",
    "print(xb.shape)\n",
    "print(xb)\n",
    "\n",
    "print(\"targets:\")\n",
    "print(yb.shape)\n",
    "print(yb)\n",
    "\n",
    "for b in range(batch_size): # batch dimension\n",
    "    for t in range(block_size): # time dimension\n",
    "        context = xb[b:t+1]\n",
    "        target = yb[b,t]\n",
    "        print(f\"When input is {context.tolist()} the target is {target}\")"
   ]
  },
  {
   "cell_type": "code",
   "execution_count": 14,
   "metadata": {},
   "outputs": [
    {
     "name": "stdout",
     "output_type": "stream",
     "text": [
      "tensor([[67, 65,  0, 53, 54, 71, 67, 64],\n",
      "        [ 1,  1, 32,  1, 53, 65,  7,  1],\n",
      "        [53, 64,  1, 72, 60, 53, 72,  1],\n",
      "        [61, 67, 66,  1, 53, 66, 56,  1]])\n"
     ]
    }
   ],
   "source": [
    "print(xb)"
   ]
  },
  {
   "attachments": {},
   "cell_type": "markdown",
   "metadata": {},
   "source": [
    "for above and below \n",
    "\n",
    "for the first one (67), BigramLangModel will look for the 67th row of the Embedding table\n",
    "\n",
    "```\n",
    "tensor([[67, 65,  0, 53, 54, 71, 67, 64],  \n",
    "        [ 1,  1, 32,  1, 53, 65,  7,  1],  \n",
    "        [53, 64,  1, 72, 60, 53, 72,  1],  \n",
    "        [61, 67, 66,  1, 53, 66, 56,  1]])   \n",
    "```"
   ]
  },
  {
   "attachments": {},
   "cell_type": "markdown",
   "metadata": {},
   "source": [
    "Attention is a communication mechanism. "
   ]
  },
  {
   "cell_type": "code",
   "execution_count": 15,
   "metadata": {},
   "outputs": [],
   "source": [
    "class Head(nn.Module):\n",
    "    def __init__(self, head_size):\n",
    "        super().__init__()\n",
    "        self.key = nn.Linear(numOfEmbedVariables, head_size, bias=False)\n",
    "        self.query = nn.Linear(numOfEmbedVariables, head_size, bias=False)\n",
    "        self.value = nn.Linear(numOfEmbedVariables, head_size, bias=False)\n",
    "        self.register_buffer(\"tril\", torch.tril(torch.ones(block_size, block_size)))\n",
    "\n",
    "    def forward(self, x):\n",
    "        B,T,C = x.shape\n",
    "        torch.manual_seed(1337)\n",
    "        x = torch.randn(B,T,C) # private information to the token \n",
    "        \n",
    "        # Single Head \n",
    "        k = self.key(x) # (B, T, head_size)\n",
    "        q = self.query(x) # (B, T, head_size)\n",
    "\n",
    "        # compute attention scores # Scale Dot-Product Attention \n",
    "        weight = q @ k.transpose(-2,-1) * C**-0.5 # (B, T, head_size) @ (B, head_size, T) --> (B, T, T) \n",
    "        weight = weight.masked_fill(self.tril[:T,:T] == 0, float('-inf'))  # (B, T, T) # setting it to infinity, we will not aggregate the tokens from the past, in other words future cannot communicate from the past\n",
    "        weight = F.softmax(weight, dim = -1) # Normalize weight\n",
    "\n",
    "        # perform te weighted aggregation of the value \n",
    "        v = self.value(x) # Thing that get aggregated for the purposes of the single head\n",
    "        xBagOfWords = weight @ v\n",
    "\n",
    "        print(xBagOfWords.shape)\n"
   ]
  },
  {
   "cell_type": "code",
   "execution_count": 16,
   "metadata": {},
   "outputs": [],
   "source": [
    "class MultiHeadAttention(nn.Module):\n",
    "    # multi heads of self attention in parallel\n",
    "    def __init__(self, num_heads, head_size):\n",
    "        super().__init__()\n",
    "        self.heads = nn.ModuleList([Head(head_size) for _ in range(num_heads)])\n",
    "\n",
    "    def forward(self, x):\n",
    "        return torch.cat([h(x) for h in self.heads], dim=-1)"
   ]
  },
  {
   "cell_type": "code",
   "execution_count": 17,
   "metadata": {},
   "outputs": [],
   "source": [
    "class FeedFoward(nn.Module):\n",
    "    # a simple linear layer followed by a non-linearity\n",
    "\n",
    "    def __init__(self, numOfEmbedVariables):\n",
    "        super().__init__()\n",
    "        self.net = nn.Sequential(\n",
    "            nn.Linear(numOfEmbedVariables, numOfEmbedVariables),\n",
    "            nn.ReLU(),\n",
    "            nn.Linear(numOfEmbedVariables, numOfEmbedVariables),\n",
    "        )\n",
    "\n",
    "    def forward(self, x):\n",
    "        return self.net(x)"
   ]
  },
  {
   "attachments": {},
   "cell_type": "markdown",
   "metadata": {},
   "source": [
    "## Blocks\n",
    "\n",
    "https://arxiv.org/abs/1512.03385\n",
    "\n",
    "https://paperswithcode.com/method/residual-block\n",
    "\n",
    "https://towardsdatascience.com/residual-blocks-building-blocks-of-resnet-fd90ca15d6ec\n",
    "\n"
   ]
  },
  {
   "cell_type": "code",
   "execution_count": 19,
   "metadata": {},
   "outputs": [],
   "source": [
    "class Block(nn.Module):\n",
    "    # Transformer block:  communication followed by computation \n",
    "    def __init__(self, n_embed, n_head):\n",
    "        #  n_embed : embedding demensions,  \n",
    "        #  n_head: the number of heads we'd like\n",
    "        super().__init__()\n",
    "        head_size = n_embed // n_head\n",
    "        self.sa = MultiHeadAttention(n_head, head_size)\n",
    "        self.ffwd = FeedFoward(n_embed)\n",
    "        \n",
    "        def forward(self, x):\n",
    "            out = torch.cat([h(x) for h in self.heads], dims=-1)\n",
    "            out = self.proj(out)\n",
    "            \n",
    "            return out\n",
    "        "
   ]
  },
  {
   "cell_type": "code",
   "execution_count": null,
   "metadata": {},
   "outputs": [
    {
     "ename": "",
     "evalue": "",
     "output_type": "error",
     "traceback": [
      "\u001b[1;31mRunning cells with '/Users/ryukomura_laptop/.pyenv/versions/3.9.1/bin/python' requires the ipykernel package.\n",
      "\u001b[1;31mRun the following command to install 'ipykernel' into the Python environment. \n",
      "\u001b[1;31mCommand: '/Users/ryukomura_laptop/.pyenv/versions/3.9.1/bin/python -m pip install ipykernel -U --force-reinstall'"
     ]
    }
   ],
   "source": [
    "class BigramLangModel(nn.Module):\n",
    "    def __init__(self, vocab_size, numOfEmbedVariables) -> None:\n",
    "        super().__init__()\n",
    "        # each token directly reads off the logits for the next token from a lookup table\n",
    "        self.token_embedding_table = nn.Embedding(vocab_size, numOfEmbedVariables)\n",
    "        self.position_embedding_table = nn.Embedding(block_size, numOfEmbedVariables) # Embedding table for position of the token \n",
    "        self.SelfAttentionHead = MultiHeadAttention(4, numOfEmbedVariables//4) # i.e 4 heads of 8 dimensional self attention \n",
    "        self.ffwd = FeedFoward(numOfEmbedVariables)\n",
    "        self.lm_head = nn.Linear(numOfEmbedVariables, vocab_size)\n",
    "\n",
    "    def forward(self, idx, targets=None):\n",
    "        B, T = idx.shape\n",
    "\n",
    "        # idx and targets are both tensor \n",
    "        tok_emb = self.token_embedding_table(idx) # (Batch(batch size), Time(block size), Channel(embed))\n",
    "        pos_emb = self.position_embedding_table(torch.arange(T,device=device)) # (T,C) integers of 0 ~ T-1\n",
    "        x = tok_emb + pos_emb # (B,T,C)\n",
    "        x = self.SelfAttentionHead(x) # apply one head of self-attention (B,T,C)\n",
    "        x = self.ffwd(x) # all the token do the FeedForward independently \n",
    "        logits = self.lm_head(x) # (Batch(batch size), Time(block size), vocab size)\n",
    "\n",
    "        if targets is None:\n",
    "            loss = None\n",
    "        else:    \n",
    "            B, T, C = logits.shape # (Batch(batch size), Time(block size), Channel(embed))\n",
    "            logits = logits.view(B*T, C)\n",
    "            targets = targets.view(B*T)\n",
    "            # targets = targets(-1)\n",
    "            loss = F.cross_entropy(logits, targets)\n",
    "\n",
    "        return logits, loss\n",
    "\n",
    "    def generate(self, idx, max_new_tokens):\n",
    "        # idx is (B,T) array of indices in current context \n",
    "        for _ in range(max_new_tokens):\n",
    "            # crop idx to the last block size tokens # we can never have more than block size \n",
    "            idx_cond = idx[:,-block_size:]\n",
    "            # get the predictions \n",
    "            logits, loss = self(idx_cond)\n",
    "            # focus only on the last step \n",
    "            logits = logits[:, -1, :]\n",
    "            # apply softmax to the probabilities \n",
    "            probs = F.softmax(logits, dim =-1) #(B,C)\n",
    "            # sample from distribution \n",
    "            idx_next = torch.multinomial(probs, num_samples=1) # (B, 1)\n",
    "            #append sampled index to running sequence\n",
    "            idx = torch.cat((idx, idx_next), dim = 1)\n",
    "        \n",
    "        return idx\n"
   ]
  }
 ],
 "metadata": {
  "kernelspec": {
   "display_name": "Python 3",
   "language": "python",
   "name": "python3"
  },
  "language_info": {
   "codemirror_mode": {
    "name": "ipython",
    "version": 3
   },
   "file_extension": ".py",
   "mimetype": "text/x-python",
   "name": "python",
   "nbconvert_exporter": "python",
   "pygments_lexer": "ipython3",
   "version": "3.11.4"
  },
  "orig_nbformat": 4
 },
 "nbformat": 4,
 "nbformat_minor": 2
}
